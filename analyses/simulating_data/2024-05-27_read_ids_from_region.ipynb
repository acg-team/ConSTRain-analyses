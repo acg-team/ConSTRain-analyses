{
 "cells": [
  {
   "cell_type": "code",
   "execution_count": 15,
   "id": "817cf18c-fa20-4aeb-98fd-349d61142e14",
   "metadata": {},
   "outputs": [],
   "source": [
    "import os\n",
    "import sys\n",
    "# SRC_DIR environment variable should be the absolute path to the 'multicopy-STR-genotyping' directory\n",
    "sys.path.append(os.environ[\"SRC_DIR\"])"
   ]
  },
  {
   "cell_type": "code",
   "execution_count": 43,
   "id": "335baaf9-dac9-4b41-b642-be740e760026",
   "metadata": {},
   "outputs": [],
   "source": [
    "import gzip\n",
    "\n",
    "import matplotlib.pyplot as plt\n",
    "import numpy as np\n",
    "import pandas as pd\n",
    "import pysam\n",
    "import seaborn as sns\n",
    "\n",
    "from multicopy_STR_genotyping import str_utils\n",
    "\n",
    "sns.set_context(\"poster\")\n",
    "%matplotlib inline"
   ]
  },
  {
   "cell_type": "markdown",
   "id": "b134d31a-34b2-4a07-a043-0686b1f76c9b",
   "metadata": {},
   "source": [
    "## Investigating loci that were wrongly called from simulated sequencing reads\n",
    "\n",
    "We used wgsim to simulate short sequencing reads to model trisomy 21. For this experiment, we combined reads from chr21 in GRCh38 and the paternal & maternal haplotypes of HG002, which we then mapped to GRCh38. For ~1% of STR loci that we genotype in this sample, the genotype ConSTRain estimates does not match the genotypes in the input haplotypes ([2024-05-23_tri21_simulated.ipynb](2024-05-23_tri21_simulated.ipynb)). Here, we investigate whether this is because there were simply not many reads simulated for this region, or because the reads for a specific allele length get spuriously mapped to other parts of the chromosome.\n",
    "\n",
    "We use chr21_44468366 as an example. This is a tetranucleotide repeat with simulated allele lengths [8, 11, 12] (11 in GRCh38). The genotype we estimated with ConSTRain, however, was [8, 12, 12], which was estimated from allele frequency distribution {8: 7, 11: 4, 12: 14}."
   ]
  },
  {
   "cell_type": "code",
   "execution_count": 81,
   "id": "dde31bc7-bf93-4e4c-bea2-df6b4ff17c5d",
   "metadata": {},
   "outputs": [],
   "source": [
    "# chr21:44468366-44468409\n",
    "str_id = \"chr21_44468366\"\n",
    "chr = \"chr21\"\n",
    "str_start = 44468366 # 1-based coordinates\n",
    "str_end = 44468409\n",
    "\n",
    "file_fw = \"../../data/simulated_reads/reads/GRCh38_chr21_1.fq.gz\"\n",
    "file_rv = \"../../data/simulated_reads/reads/GRCh38_chr21_2.fq.gz\""
   ]
  },
  {
   "cell_type": "markdown",
   "id": "b5bb7d0e-b698-4312-8b9e-de8edf30e5d9",
   "metadata": {},
   "source": [
    "Wgsim includes the source reference coordinates in the names of fastq records. We use this to determine which inserts should *in principle* overlap the STR locus of interest. The coordinates in fastq names specify the start and end position of the insert that was generated. To figure out if either of the two reads simulated for this insert we check whether the STR locus is in the first or the last 150 positions of the insert"
   ]
  },
  {
   "cell_type": "code",
   "execution_count": 96,
   "id": "6d90a0be-072a-4c82-bdec-6dc2777656bf",
   "metadata": {},
   "outputs": [],
   "source": [
    "def get_overlapping_reads(fastq, str_start, str_end, remove=None):\n",
    "    read_ids = []\n",
    "    with gzip.open(fastq, 'rt') as f:\n",
    "        for line in f:\n",
    "            if line.startswith(\"@\"):\n",
    "                split = line.split(\"_\")\n",
    "                # read_start, read_end = int(split[3]), int(split[4])\n",
    "                read_start, read_end = int(split[1]), int(split[2])\n",
    "                fw_overlap = str_utils.range_overlap(read_start, read_start + 150, str_start, str_end)\n",
    "                rv_overlap = str_utils.range_overlap(read_end - 150, read_end, str_start, str_end)\n",
    "                str_len = str_end - str_start + 1\n",
    "                if fw_overlap == str_len or rv_overlap == str_len:\n",
    "                    hit = line.strip()\n",
    "                    if remove:\n",
    "                        for i in remove:\n",
    "                            hit = hit.replace(i, \"\")\n",
    "                    read_ids.append(hit)                    \n",
    "    return set(read_ids)"
   ]
  },
  {
   "cell_type": "code",
   "execution_count": 97,
   "id": "06de9967-3c39-469d-8351-afd7d128880c",
   "metadata": {},
   "outputs": [
    {
     "data": {
      "text/plain": [
       "4"
      ]
     },
     "execution_count": 97,
     "metadata": {},
     "output_type": "execute_result"
    }
   ],
   "source": [
    "reads_fw = get_overlapping_reads(file_fw, str_start, str_end, remove = [\"@\", \"/1\"])\n",
    "len(reads_fw)"
   ]
  },
  {
   "cell_type": "code",
   "execution_count": 98,
   "id": "94e4b32c-1d94-45c7-80a1-612374ab960e",
   "metadata": {},
   "outputs": [
    {
     "name": "stdout",
     "output_type": "stream",
     "text": [
      "chr21_44468274_44468818_0:0:0_0:0:0_232d2f\n",
      "chr21_44467970_44468452_0:0:0_0:0:0_9b5fc\n",
      "chr21_44467968_44468503_0:0:0_0:0:0_13ea48\n",
      "chr21_44467874_44468451_0:0:0_0:0:0_12036d\n"
     ]
    }
   ],
   "source": [
    "for i in reads_fw:\n",
    "    print(i)"
   ]
  },
  {
   "cell_type": "markdown",
   "id": "23b0f46b-5d63-4b09-b46b-8949a050e97e",
   "metadata": {},
   "source": [
    "There are only four reads simulated from GRCh38 that overlap the chr21:44468366-44468409 STR locus. This is the same number of reads that ConSTRain observed for the GRCh38 allele length at this locus (11). This means that the wrong call stemmed from the fact that this locus contributed fewer reads to the distribution due to the randomness in how wgsim generates reads."
   ]
  },
  {
   "cell_type": "code",
   "execution_count": 100,
   "id": "83b82d02-c9a6-4c83-8dc1-c38791ec1734",
   "metadata": {},
   "outputs": [
    {
     "name": "stdout",
     "output_type": "stream",
     "text": [
      "chr21_44467874_44468451_0:0:0_0:0:0_12036d 44468301\n",
      "chr21_44467970_44468452_0:0:0_0:0:0_9b5fc 44468302\n",
      "chr21_44467968_44468503_0:0:0_0:0:0_13ea48 44468353\n",
      "chr21_44468274_44468818_0:0:0_0:0:0_232d2f 44468668\n"
     ]
    }
   ],
   "source": [
    "alignment = pysam.AlignmentFile(\"../../data/simulated_reads/alignments/GRCh38_chr21_GRCh38.bam\", 'rb')\n",
    "\n",
    "for record in alignment.fetch():\n",
    "    if record.query_name in reads_fw:\n",
    "        split = record.query_name.split(\"_\")\n",
    "        # read_start, read_end = int(split[3]), int(split[4])\n",
    "        read_start, read_end = int(split[1]), int(split[2])\n",
    "        if record.reference_start + 1 < read_start or record.reference_start + 151 > read_end:\n",
    "            print(record.query_name, record.reference_start)\n",
    "        # break\n",
    "\n",
    "alignment.close()"
   ]
  }
 ],
 "metadata": {
  "kernelspec": {
   "display_name": "Python 3 (ipykernel)",
   "language": "python",
   "name": "python3"
  },
  "language_info": {
   "codemirror_mode": {
    "name": "ipython",
    "version": 3
   },
   "file_extension": ".py",
   "mimetype": "text/x-python",
   "name": "python",
   "nbconvert_exporter": "python",
   "pygments_lexer": "ipython3",
   "version": "3.10.13"
  }
 },
 "nbformat": 4,
 "nbformat_minor": 5
}
