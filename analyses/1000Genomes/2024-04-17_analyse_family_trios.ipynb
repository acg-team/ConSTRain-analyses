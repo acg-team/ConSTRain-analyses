{
 "cells": [
  {
   "cell_type": "code",
   "execution_count": 1,
   "id": "2f856046-c07f-407a-9afa-cf20f4b2c0ec",
   "metadata": {},
   "outputs": [],
   "source": [
    "import os\n",
    "import sys\n",
    "# SRC_DIR environment variable should be the absolute path to the 'multicopy-STR-genotyping' directory\n",
    "sys.path.append(os.environ[\"SRC_DIR\"])"
   ]
  },
  {
   "cell_type": "code",
   "execution_count": 2,
   "id": "a9e28d09-46c9-4330-ac96-9fb1664071e5",
   "metadata": {},
   "outputs": [],
   "source": [
    "import numpy as np\n",
    "import pandas as pd\n",
    "import matplotlib.pyplot as plt\n",
    "import seaborn as sns\n",
    "\n",
    "from multicopy_STR_genotyping import file_io, str_utils\n",
    "\n",
    "sns.set_context(\"poster\")\n",
    "%matplotlib inline"
   ]
  },
  {
   "cell_type": "code",
   "execution_count": 3,
   "id": "5ed10a51-8788-485e-ae7c-381f3f4db022",
   "metadata": {},
   "outputs": [],
   "source": [
    "from cyvcf2 import VCF"
   ]
  },
  {
   "cell_type": "code",
   "execution_count": 4,
   "id": "1ff4aef4-e7ce-4109-a3de-34c78ebf5df7",
   "metadata": {},
   "outputs": [
    {
     "name": "stdout",
     "output_type": "stream",
     "text": [
      "../../data/1000Genomes/variants/595/NA19909_ConSTRain.vcf\n",
      "../../data/1000Genomes/variants/595/NA19919_ConSTRain.vcf\n",
      "../../data/1000Genomes/variants/595/NA19908_ConSTRain.vcf\n",
      "../../data/1000Genomes/variants/169/HG01956_ConSTRain.vcf\n",
      "../../data/1000Genomes/variants/169/HG01885_ConSTRain.vcf\n",
      "../../data/1000Genomes/variants/169/HG01884_ConSTRain.vcf\n",
      "../../data/1000Genomes/variants/447/NA07014_ConSTRain.vcf\n",
      "../../data/1000Genomes/variants/447/NA07051_ConSTRain.vcf\n",
      "../../data/1000Genomes/variants/447/NA07031_ConSTRain.vcf\n",
      "../../data/1000Genomes/variants/260/HG02610_ConSTRain.vcf\n",
      "../../data/1000Genomes/variants/260/HG02612_ConSTRain.vcf\n",
      "../../data/1000Genomes/variants/260/HG02611_ConSTRain.vcf\n",
      "../../data/1000Genomes/variants/409/HG03793_ConSTRain.vcf\n",
      "../../data/1000Genomes/variants/409/HG03794_ConSTRain.vcf\n",
      "../../data/1000Genomes/variants/409/HG03795_ConSTRain.vcf\n",
      "../../data/1000Genomes/variants/143/HG01622_ConSTRain.vcf\n",
      "../../data/1000Genomes/variants/143/HG01624_ConSTRain.vcf\n",
      "../../data/1000Genomes/variants/143/HG01623_ConSTRain.vcf\n",
      "../../data/1000Genomes/variants/55/HG00732_ConSTRain.vcf\n",
      "../../data/1000Genomes/variants/55/HG00731_ConSTRain.vcf\n",
      "../../data/1000Genomes/variants/55/HG00733_ConSTRain.vcf\n",
      "../../data/1000Genomes/variants/320/HG02954_ConSTRain.vcf\n",
      "../../data/1000Genomes/variants/320/HG02953_ConSTRain.vcf\n",
      "../../data/1000Genomes/variants/320/HG02952_ConSTRain.vcf\n",
      "../../data/1000Genomes/variants/3/HG00423_ConSTRain.vcf\n",
      "../../data/1000Genomes/variants/3/HG00422_ConSTRain.vcf\n",
      "../../data/1000Genomes/variants/3/HG00421_ConSTRain.vcf\n",
      "../../data/1000Genomes/variants/76/HG01125_ConSTRain.vcf\n",
      "../../data/1000Genomes/variants/76/HG01126_ConSTRain.vcf\n",
      "../../data/1000Genomes/variants/76/HG01124_ConSTRain.vcf\n"
     ]
    }
   ],
   "source": [
    "!find ../../data/1000Genomes/variants -name \"*.vcf\""
   ]
  }
 ],
 "metadata": {
  "kernelspec": {
   "display_name": "Python 3 (ipykernel)",
   "language": "python",
   "name": "python3"
  },
  "language_info": {
   "codemirror_mode": {
    "name": "ipython",
    "version": 3
   },
   "file_extension": ".py",
   "mimetype": "text/x-python",
   "name": "python",
   "nbconvert_exporter": "python",
   "pygments_lexer": "ipython3",
   "version": "3.10.13"
  }
 },
 "nbformat": 4,
 "nbformat_minor": 5
}
