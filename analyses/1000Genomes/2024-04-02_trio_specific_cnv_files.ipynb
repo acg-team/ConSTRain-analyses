{
 "cells": [
  {
   "cell_type": "markdown",
   "id": "ea5d0648-62c8-4a4c-a633-dd090b350764",
   "metadata": {},
   "source": [
    "# Generating trio-specific files\n",
    "\n",
    "## Load and reformat data"
   ]
  },
  {
   "cell_type": "code",
   "execution_count": 1,
   "id": "d651d33a-da99-4c5f-b44e-d39fd08667ac",
   "metadata": {},
   "outputs": [],
   "source": [
    "import os\n",
    "\n",
    "import numpy as np\n",
    "import pandas as pd"
   ]
  },
  {
   "cell_type": "code",
   "execution_count": 2,
   "id": "8e3cf3f9-bcda-4561-a82f-36645acd8e9a",
   "metadata": {},
   "outputs": [
    {
     "name": "stdout",
     "output_type": "stream",
     "text": [
      "<class 'pandas.core.frame.DataFrame'>\n",
      "RangeIndex: 1806 entries, 0 to 1805\n",
      "Data columns (total 7 columns):\n",
      " #   Column         Non-Null Count  Dtype \n",
      "---  ------         --------------  ----- \n",
      " 0   Unnamed: 0     1806 non-null   int64 \n",
      " 1   triadID        1806 non-null   int64 \n",
      " 2   sampleID       1806 non-null   object\n",
      " 3   role           1806 non-null   object\n",
      " 4   pgx_id         1806 non-null   object\n",
      " 5   sex            1806 non-null   object\n",
      " 6   ENA_FILE_PATH  1806 non-null   object\n",
      "dtypes: int64(2), object(5)\n",
      "memory usage: 98.9+ KB\n"
     ]
    }
   ],
   "source": [
    "df_trios = pd.read_csv(\"../../data/1000Genomes/1000_genomes_triad_pedigrees.csv\")\n",
    "\n",
    "df_trios.info()"
   ]
  },
  {
   "cell_type": "code",
   "execution_count": 3,
   "id": "c346f51f-729a-4d83-a224-2ec096849026",
   "metadata": {},
   "outputs": [
    {
     "data": {
      "text/html": [
       "<div>\n",
       "<style scoped>\n",
       "    .dataframe tbody tr th:only-of-type {\n",
       "        vertical-align: middle;\n",
       "    }\n",
       "\n",
       "    .dataframe tbody tr th {\n",
       "        vertical-align: top;\n",
       "    }\n",
       "\n",
       "    .dataframe thead th {\n",
       "        text-align: right;\n",
       "    }\n",
       "</style>\n",
       "<table border=\"1\" class=\"dataframe\">\n",
       "  <thead>\n",
       "    <tr style=\"text-align: right;\">\n",
       "      <th></th>\n",
       "      <th>Unnamed: 0</th>\n",
       "      <th>triadID</th>\n",
       "      <th>sampleID</th>\n",
       "      <th>role</th>\n",
       "      <th>pgx_id</th>\n",
       "      <th>sex</th>\n",
       "      <th>ENA_FILE_PATH</th>\n",
       "    </tr>\n",
       "  </thead>\n",
       "  <tbody>\n",
       "    <tr>\n",
       "      <th>0</th>\n",
       "      <td>0</td>\n",
       "      <td>0</td>\n",
       "      <td>HG00403</td>\n",
       "      <td>father</td>\n",
       "      <td>onekgbs-HG00403</td>\n",
       "      <td>M</td>\n",
       "      <td>ftp://ftp.sra.ebi.ac.uk/vol1/run/ERR324/ERR324...</td>\n",
       "    </tr>\n",
       "    <tr>\n",
       "      <th>1</th>\n",
       "      <td>1</td>\n",
       "      <td>0</td>\n",
       "      <td>HG00404</td>\n",
       "      <td>mother</td>\n",
       "      <td>onekgbs-HG00404</td>\n",
       "      <td>F</td>\n",
       "      <td>ftp://ftp.sra.ebi.ac.uk/vol1/run/ERR324/ERR324...</td>\n",
       "    </tr>\n",
       "    <tr>\n",
       "      <th>2</th>\n",
       "      <td>2</td>\n",
       "      <td>0</td>\n",
       "      <td>HG00405</td>\n",
       "      <td>child</td>\n",
       "      <td>onekgbs-HG00405</td>\n",
       "      <td>F</td>\n",
       "      <td>ftp://ftp.sra.ebi.ac.uk/vol1/run/ERR398/ERR398...</td>\n",
       "    </tr>\n",
       "    <tr>\n",
       "      <th>3</th>\n",
       "      <td>3</td>\n",
       "      <td>1</td>\n",
       "      <td>HG00406</td>\n",
       "      <td>father</td>\n",
       "      <td>onekgbs-HG00406</td>\n",
       "      <td>M</td>\n",
       "      <td>ftp://ftp.sra.ebi.ac.uk/vol1/run/ERR324/ERR324...</td>\n",
       "    </tr>\n",
       "    <tr>\n",
       "      <th>4</th>\n",
       "      <td>4</td>\n",
       "      <td>1</td>\n",
       "      <td>HG00407</td>\n",
       "      <td>mother</td>\n",
       "      <td>onekgbs-HG00407</td>\n",
       "      <td>F</td>\n",
       "      <td>ftp://ftp.sra.ebi.ac.uk/vol1/run/ERR324/ERR324...</td>\n",
       "    </tr>\n",
       "  </tbody>\n",
       "</table>\n",
       "</div>"
      ],
      "text/plain": [
       "   Unnamed: 0  triadID sampleID    role           pgx_id sex  \\\n",
       "0           0        0  HG00403  father  onekgbs-HG00403   M   \n",
       "1           1        0  HG00404  mother  onekgbs-HG00404   F   \n",
       "2           2        0  HG00405   child  onekgbs-HG00405   F   \n",
       "3           3        1  HG00406  father  onekgbs-HG00406   M   \n",
       "4           4        1  HG00407  mother  onekgbs-HG00407   F   \n",
       "\n",
       "                                       ENA_FILE_PATH  \n",
       "0  ftp://ftp.sra.ebi.ac.uk/vol1/run/ERR324/ERR324...  \n",
       "1  ftp://ftp.sra.ebi.ac.uk/vol1/run/ERR324/ERR324...  \n",
       "2  ftp://ftp.sra.ebi.ac.uk/vol1/run/ERR398/ERR398...  \n",
       "3  ftp://ftp.sra.ebi.ac.uk/vol1/run/ERR324/ERR324...  \n",
       "4  ftp://ftp.sra.ebi.ac.uk/vol1/run/ERR324/ERR324...  "
      ]
     },
     "execution_count": 3,
     "metadata": {},
     "output_type": "execute_result"
    }
   ],
   "source": [
    "df_trios.head()"
   ]
  },
  {
   "cell_type": "markdown",
   "id": "01cefd22-5147-42c2-ba41-f7e125a6e569",
   "metadata": {},
   "source": [
    "Progenetix output file needs to be modified a bit. Rename columns, split sample ids..."
   ]
  },
  {
   "cell_type": "code",
   "execution_count": 4,
   "id": "5c4a7394-fa16-4ee2-8f35-7706eb597f2d",
   "metadata": {},
   "outputs": [
    {
     "name": "stdout",
     "output_type": "stream",
     "text": [
      "<class 'pandas.core.frame.DataFrame'>\n",
      "RangeIndex: 1104925 entries, 0 to 1104924\n",
      "Data columns (total 5 columns):\n",
      " #   Column      Non-Null Count    Dtype   \n",
      "---  ------      --------------    -----   \n",
      " 0   cn          1104925 non-null  int64   \n",
      " 1   start       1104925 non-null  int64   \n",
      " 2   end         1104925 non-null  int64   \n",
      " 3   chromosome  1104925 non-null  category\n",
      " 4   sampleID    1104925 non-null  object  \n",
      "dtypes: category(1), int64(3), object(1)\n",
      "memory usage: 34.8+ MB\n"
     ]
    }
   ],
   "source": [
    "df_cnvs = (pd.read_csv(\"../../data/1000Genomes/2024-04-02_trio_cn_variants.csv\")\n",
    "           .assign(\n",
    "               chromosome = lambda x: pd.Categorical(f\"chr{i}\" for i in x[\"location.chromosome\"]),\n",
    "               sampleID = lambda x: [i[1] for i in x[\"biosample_id\"].str.split(\"-\")])\n",
    "           .rename(columns={\"info.cn_count\": \"cn\", \"location.start\": \"start\", \"location.end\": \"end\"})\n",
    "           .drop([\"location.chromosome\", \"biosample_id\"], axis=1))\n",
    "\n",
    "df_cnvs.info()"
   ]
  },
  {
   "cell_type": "code",
   "execution_count": 5,
   "id": "ecef8778-f2f9-46e3-a769-10d900ca34d3",
   "metadata": {},
   "outputs": [
    {
     "data": {
      "text/html": [
       "<div>\n",
       "<style scoped>\n",
       "    .dataframe tbody tr th:only-of-type {\n",
       "        vertical-align: middle;\n",
       "    }\n",
       "\n",
       "    .dataframe tbody tr th {\n",
       "        vertical-align: top;\n",
       "    }\n",
       "\n",
       "    .dataframe thead th {\n",
       "        text-align: right;\n",
       "    }\n",
       "</style>\n",
       "<table border=\"1\" class=\"dataframe\">\n",
       "  <thead>\n",
       "    <tr style=\"text-align: right;\">\n",
       "      <th></th>\n",
       "      <th>cn</th>\n",
       "      <th>start</th>\n",
       "      <th>end</th>\n",
       "    </tr>\n",
       "  </thead>\n",
       "  <tbody>\n",
       "    <tr>\n",
       "      <th>count</th>\n",
       "      <td>1.104925e+06</td>\n",
       "      <td>1.104925e+06</td>\n",
       "      <td>1.104925e+06</td>\n",
       "    </tr>\n",
       "    <tr>\n",
       "      <th>mean</th>\n",
       "      <td>1.943783e+00</td>\n",
       "      <td>7.432192e+07</td>\n",
       "      <td>7.436252e+07</td>\n",
       "    </tr>\n",
       "    <tr>\n",
       "      <th>std</th>\n",
       "      <td>9.577667e+00</td>\n",
       "      <td>5.628410e+07</td>\n",
       "      <td>5.625726e+07</td>\n",
       "    </tr>\n",
       "    <tr>\n",
       "      <th>min</th>\n",
       "      <td>0.000000e+00</td>\n",
       "      <td>1.153400e+04</td>\n",
       "      <td>1.377500e+04</td>\n",
       "    </tr>\n",
       "    <tr>\n",
       "      <th>25%</th>\n",
       "      <td>1.000000e+00</td>\n",
       "      <td>2.905519e+07</td>\n",
       "      <td>2.912487e+07</td>\n",
       "    </tr>\n",
       "    <tr>\n",
       "      <th>50%</th>\n",
       "      <td>1.000000e+00</td>\n",
       "      <td>5.941946e+07</td>\n",
       "      <td>5.943002e+07</td>\n",
       "    </tr>\n",
       "    <tr>\n",
       "      <th>75%</th>\n",
       "      <td>1.000000e+00</td>\n",
       "      <td>1.121489e+08</td>\n",
       "      <td>1.121619e+08</td>\n",
       "    </tr>\n",
       "    <tr>\n",
       "      <th>max</th>\n",
       "      <td>5.890000e+02</td>\n",
       "      <td>2.489260e+08</td>\n",
       "      <td>2.489306e+08</td>\n",
       "    </tr>\n",
       "  </tbody>\n",
       "</table>\n",
       "</div>"
      ],
      "text/plain": [
       "                 cn         start           end\n",
       "count  1.104925e+06  1.104925e+06  1.104925e+06\n",
       "mean   1.943783e+00  7.432192e+07  7.436252e+07\n",
       "std    9.577667e+00  5.628410e+07  5.625726e+07\n",
       "min    0.000000e+00  1.153400e+04  1.377500e+04\n",
       "25%    1.000000e+00  2.905519e+07  2.912487e+07\n",
       "50%    1.000000e+00  5.941946e+07  5.943002e+07\n",
       "75%    1.000000e+00  1.121489e+08  1.121619e+08\n",
       "max    5.890000e+02  2.489260e+08  2.489306e+08"
      ]
     },
     "execution_count": 5,
     "metadata": {},
     "output_type": "execute_result"
    }
   ],
   "source": [
    "df_cnvs.describe()"
   ]
  },
  {
   "cell_type": "code",
   "execution_count": 6,
   "id": "e588fb0f-0fe7-4d39-a249-b5f39f1646d0",
   "metadata": {},
   "outputs": [
    {
     "data": {
      "text/html": [
       "<div>\n",
       "<style scoped>\n",
       "    .dataframe tbody tr th:only-of-type {\n",
       "        vertical-align: middle;\n",
       "    }\n",
       "\n",
       "    .dataframe tbody tr th {\n",
       "        vertical-align: top;\n",
       "    }\n",
       "\n",
       "    .dataframe thead th {\n",
       "        text-align: right;\n",
       "    }\n",
       "</style>\n",
       "<table border=\"1\" class=\"dataframe\">\n",
       "  <thead>\n",
       "    <tr style=\"text-align: right;\">\n",
       "      <th></th>\n",
       "      <th>cn</th>\n",
       "      <th>start</th>\n",
       "      <th>end</th>\n",
       "      <th>chromosome</th>\n",
       "      <th>sampleID</th>\n",
       "    </tr>\n",
       "  </thead>\n",
       "  <tbody>\n",
       "    <tr>\n",
       "      <th>0</th>\n",
       "      <td>1</td>\n",
       "      <td>14108578</td>\n",
       "      <td>14111579</td>\n",
       "      <td>chr1</td>\n",
       "      <td>HG00403</td>\n",
       "    </tr>\n",
       "    <tr>\n",
       "      <th>1</th>\n",
       "      <td>0</td>\n",
       "      <td>2650426</td>\n",
       "      <td>2651463</td>\n",
       "      <td>chr1</td>\n",
       "      <td>HG00403</td>\n",
       "    </tr>\n",
       "    <tr>\n",
       "      <th>2</th>\n",
       "      <td>1</td>\n",
       "      <td>93821799</td>\n",
       "      <td>93825244</td>\n",
       "      <td>chr1</td>\n",
       "      <td>HG00403</td>\n",
       "    </tr>\n",
       "    <tr>\n",
       "      <th>3</th>\n",
       "      <td>1</td>\n",
       "      <td>84246288</td>\n",
       "      <td>84250383</td>\n",
       "      <td>chr1</td>\n",
       "      <td>HG00403</td>\n",
       "    </tr>\n",
       "    <tr>\n",
       "      <th>4</th>\n",
       "      <td>1</td>\n",
       "      <td>103362729</td>\n",
       "      <td>103365638</td>\n",
       "      <td>chr1</td>\n",
       "      <td>HG00403</td>\n",
       "    </tr>\n",
       "  </tbody>\n",
       "</table>\n",
       "</div>"
      ],
      "text/plain": [
       "   cn      start        end chromosome sampleID\n",
       "0   1   14108578   14111579       chr1  HG00403\n",
       "1   0    2650426    2651463       chr1  HG00403\n",
       "2   1   93821799   93825244       chr1  HG00403\n",
       "3   1   84246288   84250383       chr1  HG00403\n",
       "4   1  103362729  103365638       chr1  HG00403"
      ]
     },
     "execution_count": 6,
     "metadata": {},
     "output_type": "execute_result"
    }
   ],
   "source": [
    "df_cnvs.head()"
   ]
  },
  {
   "cell_type": "markdown",
   "id": "c01c1c7a-a6c1-45c6-8390-78342d7e9e8e",
   "metadata": {},
   "source": [
    "## Merge dataframes, iterate over trios and write to files"
   ]
  },
  {
   "cell_type": "code",
   "execution_count": 7,
   "id": "bafb7d9f-8830-4780-971c-6e8027c1791e",
   "metadata": {},
   "outputs": [
    {
     "name": "stdout",
     "output_type": "stream",
     "text": [
      "No CNVs for NA20358\n"
     ]
    }
   ],
   "source": [
    "output_dir = \"../../data/1000Genomes/cnvs_per_trio/\"\n",
    "for name, data in df_trios.merge(df_cnvs, on = \"sampleID\", how=\"left\").groupby([\"triadID\", \"sampleID\"]):    \n",
    "    output_file = os.path.join(output_dir, str(name[0]), f\"{name[1]}_cnvs.bed\")\n",
    "    \n",
    "    if data[\"cn\"].isna().sum() > 0:\n",
    "        print(f\"No CNVs for {name[1]}\")\n",
    "        continue\n",
    "\n",
    "    # ensure that we're writing integers\n",
    "    data = data[[\"chromosome\", \"start\", \"end\", \"cn\"]].assign(\n",
    "        start = lambda x: x[\"start\"].astype(int),\n",
    "        end = lambda x: x[\"end\"].astype(int),\n",
    "        cn = lambda x: x[\"cn\"].astype(int),\n",
    "    )\n",
    "    \n",
    "    data.to_csv(output_file, index=False, header=False, sep=\"\\t\")"
   ]
  },
  {
   "cell_type": "markdown",
   "id": "89202ff2-db35-4940-8349-2f8c1cc05b07",
   "metadata": {},
   "source": [
    "Check: there should be 1805 bed files: there are 1806 total samples minus the one sample for which there were no CNVs. Unclear whether this is because this sample is perfectly CN 2 or whether it was excluded from Progenetix somehow.\n",
    "\n",
    "**Note:** some bed files will actually be duplicates since some samples belong to more than one trio.  "
   ]
  },
  {
   "cell_type": "code",
   "execution_count": 9,
   "id": "e210f567-83e9-4149-931e-20b57f9b9122",
   "metadata": {},
   "outputs": [
    {
     "name": "stdout",
     "output_type": "stream",
     "text": [
      "    1805\n"
     ]
    }
   ],
   "source": [
    "!find ../../data/1000Genomes/cnvs_per_trio/ -name \"*_cnvs.bed\" | wc -l"
   ]
  }
 ],
 "metadata": {
  "kernelspec": {
   "display_name": "Python 3 (ipykernel)",
   "language": "python",
   "name": "python3"
  },
  "language_info": {
   "codemirror_mode": {
    "name": "ipython",
    "version": 3
   },
   "file_extension": ".py",
   "mimetype": "text/x-python",
   "name": "python",
   "nbconvert_exporter": "python",
   "pygments_lexer": "ipython3",
   "version": "3.10.13"
  }
 },
 "nbformat": 4,
 "nbformat_minor": 5
}
