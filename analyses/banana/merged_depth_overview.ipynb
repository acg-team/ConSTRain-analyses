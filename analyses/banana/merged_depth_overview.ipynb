{
 "cells": [
  {
   "cell_type": "code",
   "execution_count": 1,
   "id": "d0708687-56a1-4d1f-94f1-222e3610c33a",
   "metadata": {},
   "outputs": [],
   "source": [
    "import os\n",
    "import sys\n",
    "# SRC_DIR environment variable should be the absolute path to the 'multicopy-STR-genotyping' directory\n",
    "sys.path.append(os.environ[\"SRC_DIR\"])"
   ]
  },
  {
   "cell_type": "code",
   "execution_count": 2,
   "id": "d6578a24-c87a-4c9e-a692-c2e473a20e31",
   "metadata": {},
   "outputs": [],
   "source": [
    "import numpy as np\n",
    "import pandas as pd\n",
    "import seaborn as sns\n",
    "import matplotlib.pyplot as plt\n",
    "\n",
    "from multicopy_STR_genotyping import file_io\n",
    "\n",
    "sns.set_context(\"poster\")\n",
    "%matplotlib inline"
   ]
  },
  {
   "cell_type": "code",
   "execution_count": 3,
   "id": "1b9c9264-656e-46f4-b10e-ac00eb84dde8",
   "metadata": {},
   "outputs": [
    {
     "data": {
      "text/plain": [
       "((183345, 7), (153167, 11))"
      ]
     },
     "execution_count": 3,
     "metadata": {},
     "output_type": "execute_result"
    }
   ],
   "source": [
    "df_repeats, df_calls = file_io.dfs_from_vcf(\n",
    "    filename=\"../../data/banana/variants/v0.9.0/SAMEA5752290_merged.vcf\", \n",
    "    samples=[\"SAMEA5752290\"], \n",
    "    vcf_format=\"ConSTRain\"\n",
    ")\n",
    "\n",
    "subset = [\"genotype\", \"frequencies\"]\n",
    "# subset = [\"frequencies\"]\n",
    "df_calls = df_calls.dropna(subset=subset).assign(\n",
    "    depth = lambda x: [sum(i.values()) for i in x[\"frequencies\"]],\n",
    "    depth_norm = lambda x: x[\"depth\"] / x[\"copy_number\"],\n",
    ").reset_index(drop=True)\n",
    "\n",
    "df_calls = df_calls.merge(df_repeats[[\"str_id\", \"chr\", \"start\", \"end\", \"period\"]], on=\"str_id\")\n",
    "\n",
    "df_repeats.shape, df_calls.shape"
   ]
  },
  {
   "cell_type": "code",
   "execution_count": 4,
   "id": "7097efca-8fd4-4c47-9618-d0a6a7fce335",
   "metadata": {},
   "outputs": [
    {
     "name": "stdout",
     "output_type": "stream",
     "text": [
      "18.990840063460144\n",
      "(2703,)\n",
      "27.29399432729066\n"
     ]
    },
    {
     "data": {
      "text/html": [
       "<div>\n",
       "<style scoped>\n",
       "    .dataframe tbody tr th:only-of-type {\n",
       "        vertical-align: middle;\n",
       "    }\n",
       "\n",
       "    .dataframe tbody tr th {\n",
       "        vertical-align: top;\n",
       "    }\n",
       "\n",
       "    .dataframe thead th {\n",
       "        text-align: right;\n",
       "    }\n",
       "</style>\n",
       "<table border=\"1\" class=\"dataframe\">\n",
       "  <thead>\n",
       "    <tr style=\"text-align: right;\">\n",
       "      <th></th>\n",
       "      <th>sample</th>\n",
       "      <th>str_id</th>\n",
       "      <th>copy_number</th>\n",
       "      <th>frequencies</th>\n",
       "      <th>genotype</th>\n",
       "      <th>depth</th>\n",
       "      <th>depth_norm</th>\n",
       "      <th>chr</th>\n",
       "      <th>start</th>\n",
       "      <th>end</th>\n",
       "      <th>period</th>\n",
       "      <th>in_dup</th>\n",
       "    </tr>\n",
       "  </thead>\n",
       "  <tbody>\n",
       "    <tr>\n",
       "      <th>0</th>\n",
       "      <td>SAMEA5752290</td>\n",
       "      <td>chr01_22744</td>\n",
       "      <td>3</td>\n",
       "      <td>{3: 22}</td>\n",
       "      <td>[3, 3, 3]</td>\n",
       "      <td>22</td>\n",
       "      <td>7.333333</td>\n",
       "      <td>chr01</td>\n",
       "      <td>22744</td>\n",
       "      <td>22755</td>\n",
       "      <td>4</td>\n",
       "      <td>False</td>\n",
       "    </tr>\n",
       "    <tr>\n",
       "      <th>1</th>\n",
       "      <td>SAMEA5752290</td>\n",
       "      <td>chr01_33907</td>\n",
       "      <td>3</td>\n",
       "      <td>{3: 78}</td>\n",
       "      <td>[3, 3, 3]</td>\n",
       "      <td>78</td>\n",
       "      <td>26.000000</td>\n",
       "      <td>chr01</td>\n",
       "      <td>33907</td>\n",
       "      <td>33924</td>\n",
       "      <td>6</td>\n",
       "      <td>False</td>\n",
       "    </tr>\n",
       "    <tr>\n",
       "      <th>2</th>\n",
       "      <td>SAMEA5752290</td>\n",
       "      <td>chr01_35829</td>\n",
       "      <td>3</td>\n",
       "      <td>{5: 15, 6: 4}</td>\n",
       "      <td>[5, 5, 6]</td>\n",
       "      <td>19</td>\n",
       "      <td>6.333333</td>\n",
       "      <td>chr01</td>\n",
       "      <td>35829</td>\n",
       "      <td>35842</td>\n",
       "      <td>2</td>\n",
       "      <td>False</td>\n",
       "    </tr>\n",
       "    <tr>\n",
       "      <th>3</th>\n",
       "      <td>SAMEA5752290</td>\n",
       "      <td>chr01_37881</td>\n",
       "      <td>3</td>\n",
       "      <td>{18: 3}</td>\n",
       "      <td>[18, 18, 18]</td>\n",
       "      <td>3</td>\n",
       "      <td>1.000000</td>\n",
       "      <td>chr01</td>\n",
       "      <td>37881</td>\n",
       "      <td>37930</td>\n",
       "      <td>2</td>\n",
       "      <td>False</td>\n",
       "    </tr>\n",
       "    <tr>\n",
       "      <th>4</th>\n",
       "      <td>SAMEA5752290</td>\n",
       "      <td>chr01_37997</td>\n",
       "      <td>3</td>\n",
       "      <td>{7: 8}</td>\n",
       "      <td>[7, 7, 7]</td>\n",
       "      <td>8</td>\n",
       "      <td>2.666667</td>\n",
       "      <td>chr01</td>\n",
       "      <td>37997</td>\n",
       "      <td>38046</td>\n",
       "      <td>2</td>\n",
       "      <td>False</td>\n",
       "    </tr>\n",
       "  </tbody>\n",
       "</table>\n",
       "</div>"
      ],
      "text/plain": [
       "         sample       str_id  copy_number    frequencies      genotype  depth  \\\n",
       "0  SAMEA5752290  chr01_22744            3        {3: 22}     [3, 3, 3]     22   \n",
       "1  SAMEA5752290  chr01_33907            3        {3: 78}     [3, 3, 3]     78   \n",
       "2  SAMEA5752290  chr01_35829            3  {5: 15, 6: 4}     [5, 5, 6]     19   \n",
       "3  SAMEA5752290  chr01_37881            3        {18: 3}  [18, 18, 18]      3   \n",
       "4  SAMEA5752290  chr01_37997            3         {7: 8}     [7, 7, 7]      8   \n",
       "\n",
       "   depth_norm    chr  start    end  period  in_dup  \n",
       "0    7.333333  chr01  22744  22755       4   False  \n",
       "1   26.000000  chr01  33907  33924       6   False  \n",
       "2    6.333333  chr01  35829  35842       2   False  \n",
       "3    1.000000  chr01  37881  37930       2   False  \n",
       "4    2.666667  chr01  37997  38046       2   False  "
      ]
     },
     "execution_count": 4,
     "metadata": {},
     "output_type": "execute_result"
    }
   ],
   "source": [
    "print(df_calls[\"depth_norm\"].mean())\n",
    "\n",
    "start, end = 2.8e7, 3.375e7\n",
    "print(df_calls.query(f\"chr == 'chr02' and start > {start} and end < {end}\")[\"depth_norm\"].shape)\n",
    "print(df_calls.query(f\"chr == 'chr02' and start > {start} and end < {end}\")[\"depth_norm\"].mean())\n",
    "\n",
    "df_calls = df_calls.assign(in_dup = lambda x: np.array((x[\"chr\"] == \"chr02\") & (x[\"start\"] > start) & (x[\"end\"] < end)))\n",
    "df_calls.head()"
   ]
  },
  {
   "cell_type": "code",
   "execution_count": 5,
   "id": "7614163d-cf22-41e2-92b6-e3ad378a50ad",
   "metadata": {},
   "outputs": [
    {
     "data": {
      "text/html": [
       "<div>\n",
       "<style scoped>\n",
       "    .dataframe tbody tr th:only-of-type {\n",
       "        vertical-align: middle;\n",
       "    }\n",
       "\n",
       "    .dataframe tbody tr th {\n",
       "        vertical-align: top;\n",
       "    }\n",
       "\n",
       "    .dataframe thead th {\n",
       "        text-align: right;\n",
       "    }\n",
       "</style>\n",
       "<table border=\"1\" class=\"dataframe\">\n",
       "  <thead>\n",
       "    <tr style=\"text-align: right;\">\n",
       "      <th></th>\n",
       "      <th>in_dup</th>\n",
       "      <th>in_range</th>\n",
       "      <th>proportion</th>\n",
       "    </tr>\n",
       "  </thead>\n",
       "  <tbody>\n",
       "    <tr>\n",
       "      <th>0</th>\n",
       "      <td>False</td>\n",
       "      <td>True</td>\n",
       "      <td>0.975363</td>\n",
       "    </tr>\n",
       "    <tr>\n",
       "      <th>1</th>\n",
       "      <td>False</td>\n",
       "      <td>False</td>\n",
       "      <td>0.024637</td>\n",
       "    </tr>\n",
       "    <tr>\n",
       "      <th>2</th>\n",
       "      <td>True</td>\n",
       "      <td>True</td>\n",
       "      <td>0.729560</td>\n",
       "    </tr>\n",
       "    <tr>\n",
       "      <th>3</th>\n",
       "      <td>True</td>\n",
       "      <td>False</td>\n",
       "      <td>0.270440</td>\n",
       "    </tr>\n",
       "  </tbody>\n",
       "</table>\n",
       "</div>"
      ],
      "text/plain": [
       "   in_dup  in_range  proportion\n",
       "0   False      True    0.975363\n",
       "1   False     False    0.024637\n",
       "2    True      True    0.729560\n",
       "3    True     False    0.270440"
      ]
     },
     "execution_count": 5,
     "metadata": {},
     "output_type": "execute_result"
    }
   ],
   "source": [
    "lower, upper = 1.0, (34.0 + 2/3)\n",
    "(df_calls\n",
    "     .assign(in_range = lambda x: np.array((x[\"depth_norm\"] >= lower) & (x[\"depth_norm\"] < upper)))\n",
    "     .groupby(\"in_dup\", as_index=False)\n",
    "     .value_counts([\"in_range\"], normalize=True)\n",
    ")\n",
    "\n"
   ]
  },
  {
   "cell_type": "code",
   "execution_count": 6,
   "id": "db35b89d-3d04-4e49-8dc7-0c8b5fa1fb6e",
   "metadata": {},
   "outputs": [
    {
     "data": {
      "text/html": [
       "<div>\n",
       "<style scoped>\n",
       "    .dataframe tbody tr th:only-of-type {\n",
       "        vertical-align: middle;\n",
       "    }\n",
       "\n",
       "    .dataframe tbody tr th {\n",
       "        vertical-align: top;\n",
       "    }\n",
       "\n",
       "    .dataframe thead th {\n",
       "        text-align: right;\n",
       "    }\n",
       "</style>\n",
       "<table border=\"1\" class=\"dataframe\">\n",
       "  <thead>\n",
       "    <tr style=\"text-align: right;\">\n",
       "      <th></th>\n",
       "      <th>in_dup</th>\n",
       "      <th>in_range</th>\n",
       "      <th>proportion</th>\n",
       "    </tr>\n",
       "  </thead>\n",
       "  <tbody>\n",
       "    <tr>\n",
       "      <th>0</th>\n",
       "      <td>False</td>\n",
       "      <td>True</td>\n",
       "      <td>0.966431</td>\n",
       "    </tr>\n",
       "    <tr>\n",
       "      <th>1</th>\n",
       "      <td>False</td>\n",
       "      <td>False</td>\n",
       "      <td>0.033569</td>\n",
       "    </tr>\n",
       "    <tr>\n",
       "      <th>2</th>\n",
       "      <td>True</td>\n",
       "      <td>True</td>\n",
       "      <td>0.965594</td>\n",
       "    </tr>\n",
       "    <tr>\n",
       "      <th>3</th>\n",
       "      <td>True</td>\n",
       "      <td>False</td>\n",
       "      <td>0.034406</td>\n",
       "    </tr>\n",
       "  </tbody>\n",
       "</table>\n",
       "</div>"
      ],
      "text/plain": [
       "   in_dup  in_range  proportion\n",
       "0   False      True    0.966431\n",
       "1   False     False    0.033569\n",
       "2    True      True    0.965594\n",
       "3    True     False    0.034406"
      ]
     },
     "execution_count": 6,
     "metadata": {},
     "output_type": "execute_result"
    }
   ],
   "source": [
    "# lower, upper = 1.0, (33.0 + 2/3)\n",
    "\n",
    "(df_calls\n",
    "     .assign(\n",
    "         depth_norm = lambda x: [i * .75 if j else i for i, j in zip(x[\"depth_norm\"], x[\"in_dup\"])],\n",
    "         in_range = lambda x: np.array((x[\"depth_norm\"] >= 1.0) & (x[\"depth_norm\"] < (33.0 + 2/3)))\n",
    "     )\n",
    "     .groupby(\"in_dup\", as_index=False)\n",
    "     .value_counts([\"in_range\"], normalize=True)\n",
    ")"
   ]
  },
  {
   "cell_type": "code",
   "execution_count": 7,
   "id": "5d7f0226-5479-4ca2-9cfa-954ad0bd28c7",
   "metadata": {},
   "outputs": [],
   "source": [
    "select = [\"in_dup\", \"group\", \"depth_norm\"]\n",
    "\n",
    "df_nodup = df_calls[~df_calls[\"in_dup\"]].reset_index(drop=True).assign(group=\"not in duplication\").filter(select)\n",
    "df_dup = df_calls[df_calls[\"in_dup\"]].reset_index(drop=True).assign(group=\"in duplication\\n(no CNA info)\").filter(select)\n",
    "df_dup_corrected = df_calls[df_calls[\"in_dup\"]].reset_index(drop=True).assign(\n",
    "    depth_norm = lambda x: x[\"depth_norm\"] * .75, \n",
    "    group=\"in duplication\\n(with CNA info)\").filter(select)\n",
    "\n",
    "df_plot = pd.concat([df_nodup, df_dup, df_dup_corrected])"
   ]
  },
  {
   "cell_type": "code",
   "execution_count": 8,
   "id": "950a4002-aeae-4d16-a12a-7cc93788cd90",
   "metadata": {},
   "outputs": [
    {
     "data": {
      "image/png": "[encoded data removed]",
      "text/plain": [
       "<Figure size 600x600 with 1 Axes>"
      ]
     },
     "metadata": {},
     "output_type": "display_data"
    }
   ],
   "source": [
    "fig = plt.figure(figsize=(6, 6))\n",
    "\n",
    "ax = sns.kdeplot(\n",
    "    df_plot.query(\"depth_norm < 100\"),\n",
    "    x=\"depth_norm\",\n",
    "    hue=\"group\",\n",
    "    fill=\"group\",\n",
    "    palette=\"colorblind\",\n",
    "    common_norm=False,\n",
    "    alpha=.4,\n",
    "    legend=False\n",
    ")\n",
    "\n",
    "ax.vlines(x=[lower, upper], ymin=0, ymax=ax.get_ylim()[1], color=\"black\", linestyle=\"--\")\n",
    "\n",
    "_ = ax.set(\n",
    "    xlim=(0, 70),\n",
    "    xlabel=\"Normalised depth\",\n",
    "    ylabel=\"Proportion of STR loci\"\n",
    ")\n",
    "# legend = ax.get_legend()\n",
    "# _ = legend.set(title=\"\", bbox_to_anchor=(2, 1))\n",
    "# legend.get_frame().set_alpha(1.)"
   ]
  },
  {
   "cell_type": "code",
   "execution_count": 9,
   "id": "85072b4c-7ff9-46d7-accc-983074702542",
   "metadata": {},
   "outputs": [
    {
     "name": "stdout",
     "output_type": "stream",
     "text": [
      "18.84167862966114 27.29399432729066 20.470495745468\n",
      "19.0 28.666666666666668 21.5\n",
      "\n",
      "TtestResult(statistic=-9.71247589578443, pvalue=2.707611096356032e-22, df=153165.0)\n",
      "TtestResult(statistic=-1.8721220401809315, pvalue=0.06119162543629854, df=153165.0)\n",
      "TtestResult(statistic=24.981544459304956, pvalue=1.909790567114488e-130, df=5404.0)\n",
      "\n",
      "MannwhitneyuResult(statistic=105731584.0, pvalue=0.0)\n",
      "MannwhitneyuResult(statistic=173817650.5, pvalue=1.972341946458907e-38)\n",
      "MannwhitneyuResult(statistic=5119037.0, pvalue=5.503716366074337e-144)\n"
     ]
    }
   ],
   "source": [
    "from scipy import stats\n",
    "\n",
    "print(df_nodup[\"depth_norm\"].mean(), df_dup[\"depth_norm\"].mean(), df_dup_corrected[\"depth_norm\"].mean())\n",
    "print(df_nodup[\"depth_norm\"].median(), df_dup[\"depth_norm\"].median(), df_dup_corrected[\"depth_norm\"].median())\n",
    "print()\n",
    "print(stats.ttest_ind(df_nodup[\"depth_norm\"], df_dup[\"depth_norm\"]))\n",
    "print(stats.ttest_ind(df_nodup[\"depth_norm\"], df_dup_corrected[\"depth_norm\"]))\n",
    "print(stats.ttest_ind(df_dup[\"depth_norm\"], df_dup_corrected[\"depth_norm\"]))\n",
    "print()\n",
    "print(stats.mannwhitneyu(df_nodup[\"depth_norm\"], df_dup[\"depth_norm\"]))\n",
    "print(stats.mannwhitneyu(df_nodup[\"depth_norm\"], df_dup_corrected[\"depth_norm\"]))\n",
    "print(stats.mannwhitneyu(df_dup[\"depth_norm\"], df_dup_corrected[\"depth_norm\"]))"
   ]
  }
 ],
 "metadata": {
  "kernelspec": {
   "display_name": "Python 3 (ipykernel)",
   "language": "python",
   "name": "python3"
  },
  "language_info": {
   "codemirror_mode": {
    "name": "ipython",
    "version": 3
   },
   "file_extension": ".py",
   "mimetype": "text/x-python",
   "name": "python",
   "nbconvert_exporter": "python",
   "pygments_lexer": "ipython3",
   "version": "3.10.13"
  }
 },
 "nbformat": 4,
 "nbformat_minor": 5
}
