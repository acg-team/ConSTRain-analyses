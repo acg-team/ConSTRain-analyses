{
 "cells": [
  {
   "cell_type": "code",
   "execution_count": 5,
   "id": "c7f024b7-25ea-4b85-96ee-1d2b722ca64e",
   "metadata": {},
   "outputs": [],
   "source": [
    "import os\n",
    "import sys\n",
    "# SRC_DIR environment variable should be the absolute path to the 'multicopy-STR-genotyping' directory\n",
    "sys.path.append(os.environ[\"SRC_DIR\"])"
   ]
  },
  {
   "cell_type": "code",
   "execution_count": 6,
   "id": "a71c4bad-120a-4610-9cf0-bea1d90ae400",
   "metadata": {},
   "outputs": [],
   "source": [
    "import numpy as np\n",
    "import pandas as pd\n",
    "import seaborn as sns\n",
    "import matplotlib.pyplot as plt\n",
    "\n",
    "from multicopy_STR_genotyping import file_io\n",
    "\n",
    "sns.set_context(\"poster\")\n",
    "%matplotlib inline"
   ]
  },
  {
   "cell_type": "code",
   "execution_count": 7,
   "id": "345825f1-df4a-48c6-a589-086c2efebe7b",
   "metadata": {},
   "outputs": [],
   "source": [
    "dup_chr, dup_start, dup_end = \"chr02\", 2.8e7, 3.375e7"
   ]
  },
  {
   "cell_type": "code",
   "execution_count": 8,
   "id": "f2fcc101-40bb-4f54-8176-6a7eff488786",
   "metadata": {},
   "outputs": [
    {
     "data": {
      "text/plain": [
       "((183345, 7), (148728, 12))"
      ]
     },
     "execution_count": 8,
     "metadata": {},
     "output_type": "execute_result"
    }
   ],
   "source": [
    "df_repeats, df_calls_hs = file_io.dfs_from_vcf(\n",
    "    filename=\"../../data/banana/variants/v0.9.0/SAMEA5752290_HiSeq1500_chr2_dup.vcf\",\n",
    "    samples=[\"SAMEA5752290\"], \n",
    "    vcf_format=\"ConSTRain\"\n",
    ")\n",
    "\n",
    "df_calls_hs = df_calls_hs.dropna().merge(\n",
    "    df_repeats[[\"str_id\", \"chr\", \"start\", \"end\", \"period\"]], on=\"str_id\"\n",
    "    ).assign(\n",
    "        depth = lambda x: [sum(i.values()) for i in x[\"frequencies\"]],\n",
    "        depth_norm = lambda x: x[\"depth\"] / x[\"copy_number\"],\n",
    "        in_dup = lambda x: np.array((x[\"chr\"] == dup_chr) & (x[\"start\"] > dup_start) & (x[\"end\"] < dup_end))\n",
    "    ).reset_index(drop=True)\n",
    "\n",
    "df_calls_hs = df_calls_hs.rename(columns={\n",
    "    \"frequencies\": \"frequencies_hs\", \n",
    "    \"genotype\": \"genotype_hs\",\n",
    "})\n",
    "\n",
    "df_repeats.shape, df_calls_hs.shape"
   ]
  },
  {
   "cell_type": "code",
   "execution_count": 9,
   "id": "d6f8079f-767a-4b49-8f39-f1c194bfa52e",
   "metadata": {},
   "outputs": [
    {
     "name": "stdout",
     "output_type": "stream",
     "text": [
      "(148728, 12)\n",
      "(144657, 12)\n"
     ]
    }
   ],
   "source": [
    "print(df_calls_hs.shape)\n",
    "lower_hs, upper_hs = 1.0, 17.0\n",
    "df_calls_filt_hs = df_calls_hs.query(f\"depth_norm >= {lower_hs} and depth_norm <= {upper_hs}\").reset_index(drop=True)\n",
    "print(df_calls_filt_hs.shape)"
   ]
  },
  {
   "cell_type": "code",
   "execution_count": 10,
   "id": "01cffc2e-2024-4083-9533-b9da3bf796c6",
   "metadata": {},
   "outputs": [
    {
     "data": {
      "text/plain": [
       "((183345, 7), (144597, 12))"
      ]
     },
     "execution_count": 10,
     "metadata": {},
     "output_type": "execute_result"
    }
   ],
   "source": [
    "df_repeats, df_calls_ns = file_io.dfs_from_vcf(\n",
    "    filename=\"../../data/banana/variants/v0.9.0/SAMEA5752290_NextSeq500_chr2_dup.vcf\", \n",
    "    samples=[\"SAMEA5752290\"], \n",
    "    vcf_format=\"ConSTRain\"\n",
    ")\n",
    "\n",
    "df_calls_ns = df_calls_ns.dropna().merge(\n",
    "    df_repeats[[\"str_id\", \"chr\", \"start\", \"end\", \"period\"]], on=\"str_id\"\n",
    "    ).assign(\n",
    "        depth = lambda x: [sum(i.values()) for i in x[\"frequencies\"]],\n",
    "        depth_norm = lambda x: x[\"depth\"] / x[\"copy_number\"],\n",
    "        in_dup = lambda x: np.array((x[\"chr\"] == dup_chr) & (x[\"start\"] > dup_start) & (x[\"end\"] < dup_end))\n",
    "    ).reset_index(drop=True)\n",
    "\n",
    "df_calls_ns = df_calls_ns.rename(columns={\n",
    "    \"frequencies\": \"frequencies_ns\", \n",
    "    \"genotype\": \"genotype_ns\",\n",
    "})\n",
    "\n",
    "df_repeats.shape, df_calls_ns.shape"
   ]
  },
  {
   "cell_type": "code",
   "execution_count": 11,
   "id": "857e28b3-e5e9-4c4f-9bf0-a1a87551a7ee",
   "metadata": {},
   "outputs": [
    {
     "name": "stdout",
     "output_type": "stream",
     "text": [
      "(144597, 12)\n",
      "(140746, 12)\n"
     ]
    }
   ],
   "source": [
    "print(df_calls_ns.shape)\n",
    "lower_ns, upper_ns = 1.0, 19.0\n",
    "df_calls_filt_ns = df_calls_ns.query(f\"depth_norm >= {lower_ns} and depth_norm <= {upper_ns}\").reset_index(drop=True)\n",
    "print(df_calls_filt_ns.shape)"
   ]
  },
  {
   "cell_type": "code",
   "execution_count": 12,
   "id": "1e1e6760-df14-421c-937f-13fa039dcf73",
   "metadata": {},
   "outputs": [
    {
     "data": {
      "text/html": [
       "<div>\n",
       "<style scoped>\n",
       "    .dataframe tbody tr th:only-of-type {\n",
       "        vertical-align: middle;\n",
       "    }\n",
       "\n",
       "    .dataframe tbody tr th {\n",
       "        vertical-align: top;\n",
       "    }\n",
       "\n",
       "    .dataframe thead th {\n",
       "        text-align: right;\n",
       "    }\n",
       "</style>\n",
       "<table border=\"1\" class=\"dataframe\">\n",
       "  <thead>\n",
       "    <tr style=\"text-align: right;\">\n",
       "      <th></th>\n",
       "      <th>str_id</th>\n",
       "      <th>period</th>\n",
       "      <th>frequencies_ns</th>\n",
       "      <th>genotype_ns</th>\n",
       "      <th>frequencies_hs</th>\n",
       "      <th>genotype_hs</th>\n",
       "      <th>in_dup</th>\n",
       "      <th>match</th>\n",
       "    </tr>\n",
       "  </thead>\n",
       "  <tbody>\n",
       "    <tr>\n",
       "      <th>0</th>\n",
       "      <td>chr01_22744</td>\n",
       "      <td>4</td>\n",
       "      <td>{3: 12}</td>\n",
       "      <td>[3, 3, 3]</td>\n",
       "      <td>{3: 10}</td>\n",
       "      <td>[3, 3, 3]</td>\n",
       "      <td>False</td>\n",
       "      <td>True</td>\n",
       "    </tr>\n",
       "    <tr>\n",
       "      <th>1</th>\n",
       "      <td>chr01_35829</td>\n",
       "      <td>2</td>\n",
       "      <td>{5: 6, 6: 4}</td>\n",
       "      <td>[5, 5, 6]</td>\n",
       "      <td>{5: 9}</td>\n",
       "      <td>[5, 5, 5]</td>\n",
       "      <td>False</td>\n",
       "      <td>False</td>\n",
       "    </tr>\n",
       "    <tr>\n",
       "      <th>2</th>\n",
       "      <td>chr01_37997</td>\n",
       "      <td>2</td>\n",
       "      <td>{7: 4}</td>\n",
       "      <td>[7, 7, 7]</td>\n",
       "      <td>{7: 4}</td>\n",
       "      <td>[7, 7, 7]</td>\n",
       "      <td>False</td>\n",
       "      <td>True</td>\n",
       "    </tr>\n",
       "    <tr>\n",
       "      <th>3</th>\n",
       "      <td>chr01_38113</td>\n",
       "      <td>2</td>\n",
       "      <td>{6: 7}</td>\n",
       "      <td>[6, 6, 6]</td>\n",
       "      <td>{6: 11}</td>\n",
       "      <td>[6, 6, 6]</td>\n",
       "      <td>False</td>\n",
       "      <td>True</td>\n",
       "    </tr>\n",
       "    <tr>\n",
       "      <th>4</th>\n",
       "      <td>chr01_40758</td>\n",
       "      <td>1</td>\n",
       "      <td>{11: 29, 12: 1, 13: 6, 14: 1}</td>\n",
       "      <td>[11, 11, 13]</td>\n",
       "      <td>{11: 24, 12: 3, 13: 7, 14: 1}</td>\n",
       "      <td>[11, 11, 13]</td>\n",
       "      <td>False</td>\n",
       "      <td>True</td>\n",
       "    </tr>\n",
       "    <tr>\n",
       "      <th>...</th>\n",
       "      <td>...</td>\n",
       "      <td>...</td>\n",
       "      <td>...</td>\n",
       "      <td>...</td>\n",
       "      <td>...</td>\n",
       "      <td>...</td>\n",
       "      <td>...</td>\n",
       "      <td>...</td>\n",
       "    </tr>\n",
       "    <tr>\n",
       "      <th>133421</th>\n",
       "      <td>chr11_34585131</td>\n",
       "      <td>2</td>\n",
       "      <td>{6: 18, 8: 11}</td>\n",
       "      <td>[6, 6, 8]</td>\n",
       "      <td>{6: 26, 8: 12}</td>\n",
       "      <td>[6, 6, 8]</td>\n",
       "      <td>False</td>\n",
       "      <td>True</td>\n",
       "    </tr>\n",
       "    <tr>\n",
       "      <th>133422</th>\n",
       "      <td>chr11_34585501</td>\n",
       "      <td>1</td>\n",
       "      <td>{9: 1, 10: 29, 11: 1, 12: 11}</td>\n",
       "      <td>[10, 10, 12]</td>\n",
       "      <td>{9: 1, 10: 20, 12: 13, 13: 1}</td>\n",
       "      <td>[10, 10, 12]</td>\n",
       "      <td>False</td>\n",
       "      <td>True</td>\n",
       "    </tr>\n",
       "    <tr>\n",
       "      <th>133423</th>\n",
       "      <td>chr11_34588059</td>\n",
       "      <td>1</td>\n",
       "      <td>{9: 14, 10: 28, 11: 2}</td>\n",
       "      <td>[9, 10, 10]</td>\n",
       "      <td>{9: 19, 10: 24}</td>\n",
       "      <td>[9, 10, 10]</td>\n",
       "      <td>False</td>\n",
       "      <td>True</td>\n",
       "    </tr>\n",
       "    <tr>\n",
       "      <th>133424</th>\n",
       "      <td>chr11_34593028</td>\n",
       "      <td>4</td>\n",
       "      <td>{3: 39}</td>\n",
       "      <td>[3, 3, 3]</td>\n",
       "      <td>{3: 47}</td>\n",
       "      <td>[3, 3, 3]</td>\n",
       "      <td>False</td>\n",
       "      <td>True</td>\n",
       "    </tr>\n",
       "    <tr>\n",
       "      <th>133425</th>\n",
       "      <td>chr11_34602888</td>\n",
       "      <td>1</td>\n",
       "      <td>{0: 6}</td>\n",
       "      <td>[0, 0, 0]</td>\n",
       "      <td>{0: 13}</td>\n",
       "      <td>[0, 0, 0]</td>\n",
       "      <td>False</td>\n",
       "      <td>True</td>\n",
       "    </tr>\n",
       "  </tbody>\n",
       "</table>\n",
       "<p>133426 rows × 8 columns</p>\n",
       "</div>"
      ],
      "text/plain": [
       "                str_id  period                 frequencies_ns   genotype_ns  \\\n",
       "0          chr01_22744       4                        {3: 12}     [3, 3, 3]   \n",
       "1          chr01_35829       2                   {5: 6, 6: 4}     [5, 5, 6]   \n",
       "2          chr01_37997       2                         {7: 4}     [7, 7, 7]   \n",
       "3          chr01_38113       2                         {6: 7}     [6, 6, 6]   \n",
       "4          chr01_40758       1  {11: 29, 12: 1, 13: 6, 14: 1}  [11, 11, 13]   \n",
       "...                ...     ...                            ...           ...   \n",
       "133421  chr11_34585131       2                 {6: 18, 8: 11}     [6, 6, 8]   \n",
       "133422  chr11_34585501       1  {9: 1, 10: 29, 11: 1, 12: 11}  [10, 10, 12]   \n",
       "133423  chr11_34588059       1         {9: 14, 10: 28, 11: 2}   [9, 10, 10]   \n",
       "133424  chr11_34593028       4                        {3: 39}     [3, 3, 3]   \n",
       "133425  chr11_34602888       1                         {0: 6}     [0, 0, 0]   \n",
       "\n",
       "                       frequencies_hs   genotype_hs  in_dup  match  \n",
       "0                             {3: 10}     [3, 3, 3]   False   True  \n",
       "1                              {5: 9}     [5, 5, 5]   False  False  \n",
       "2                              {7: 4}     [7, 7, 7]   False   True  \n",
       "3                             {6: 11}     [6, 6, 6]   False   True  \n",
       "4       {11: 24, 12: 3, 13: 7, 14: 1}  [11, 11, 13]   False   True  \n",
       "...                               ...           ...     ...    ...  \n",
       "133421                 {6: 26, 8: 12}     [6, 6, 8]   False   True  \n",
       "133422  {9: 1, 10: 20, 12: 13, 13: 1}  [10, 10, 12]   False   True  \n",
       "133423                {9: 19, 10: 24}   [9, 10, 10]   False   True  \n",
       "133424                        {3: 47}     [3, 3, 3]   False   True  \n",
       "133425                        {0: 13}     [0, 0, 0]   False   True  \n",
       "\n",
       "[133426 rows x 8 columns]"
      ]
     },
     "execution_count": 12,
     "metadata": {},
     "output_type": "execute_result"
    }
   ],
   "source": [
    "mask_ns = ((df_calls_filt_ns[\"period\"] <= 2) & (df_calls_filt_ns[\"depth_norm\"] < 1.))\n",
    "mask_hs = ((df_calls_filt_hs[\"period\"] <= 2) & (df_calls_filt_hs[\"depth_norm\"] < 1.))\n",
    "\n",
    "df_calls_merge = (df_calls_filt_ns[[\"str_id\", \"period\", \"frequencies_ns\", \"genotype_ns\"]]\n",
    "                 .merge(df_calls_filt_hs[[\"str_id\", \"frequencies_hs\", \"genotype_hs\", \"in_dup\"]], on=\"str_id\")\n",
    "                 .assign(match = lambda x: x[\"genotype_ns\"] == x[\"genotype_hs\"]))\n",
    "\n",
    "df_calls_merge"
   ]
  },
  {
   "cell_type": "code",
   "execution_count": 13,
   "id": "f4ed732c-f534-4ea8-a425-b683187db408",
   "metadata": {},
   "outputs": [
    {
     "name": "stdout",
     "output_type": "stream",
     "text": [
      "match\n",
      "True     109190\n",
      "False     24236\n",
      "Name: count, dtype: int64\n"
     ]
    },
    {
     "data": {
      "text/plain": [
       "match\n",
       "True     0.818356\n",
       "False    0.181644\n",
       "Name: proportion, dtype: float64"
      ]
     },
     "execution_count": 13,
     "metadata": {},
     "output_type": "execute_result"
    }
   ],
   "source": [
    "print(df_calls_merge[\"match\"].value_counts())\n",
    "df_calls_merge[\"match\"].value_counts(normalize=True)"
   ]
  },
  {
   "cell_type": "code",
   "execution_count": 14,
   "id": "d37d8160-0354-4131-8603-80c932469b27",
   "metadata": {},
   "outputs": [],
   "source": [
    "thresholds = [1., 5., 10., 15.]\n",
    "\n",
    "df_plot = []\n",
    "for thresh in thresholds:\n",
    "    df = (df_calls_filt_ns.query(f\"depth_norm >= {thresh}\")[[\"str_id\", \"period\", \"frequencies_ns\", \"genotype_ns\"]]\n",
    "             .merge(df_calls_filt_hs.query(f\"depth_norm >= {thresh}\")[[\"str_id\", \"frequencies_hs\", \"genotype_hs\", \"in_dup\"]], on=\"str_id\")\n",
    "             .assign(match = lambda x: x[\"genotype_ns\"] == x[\"genotype_hs\"]))\n",
    "    \n",
    "    df = df.groupby([\"period\"], as_index=False).value_counts([\"match\"], normalize=True).query(\"match == True\")[[\"period\", \"proportion\"]]\n",
    "    df_plot.append(df.assign(threshold = thresh))\n",
    "\n",
    "df_plot = pd.concat(df_plot)"
   ]
  },
  {
   "cell_type": "code",
   "execution_count": 15,
   "id": "e06eec0b-9367-4ac8-9ef7-d39fdab8d0e4",
   "metadata": {},
   "outputs": [
    {
     "data": {
      "text/html": [
       "<div>\n",
       "<style scoped>\n",
       "    .dataframe tbody tr th:only-of-type {\n",
       "        vertical-align: middle;\n",
       "    }\n",
       "\n",
       "    .dataframe tbody tr th {\n",
       "        vertical-align: top;\n",
       "    }\n",
       "\n",
       "    .dataframe thead th {\n",
       "        text-align: right;\n",
       "    }\n",
       "</style>\n",
       "<table border=\"1\" class=\"dataframe\">\n",
       "  <thead>\n",
       "    <tr style=\"text-align: right;\">\n",
       "      <th>threshold</th>\n",
       "      <th>1.0</th>\n",
       "      <th>5.0</th>\n",
       "      <th>10.0</th>\n",
       "      <th>15.0</th>\n",
       "    </tr>\n",
       "    <tr>\n",
       "      <th>period</th>\n",
       "      <th></th>\n",
       "      <th></th>\n",
       "      <th></th>\n",
       "      <th></th>\n",
       "    </tr>\n",
       "  </thead>\n",
       "  <tbody>\n",
       "    <tr>\n",
       "      <th>1</th>\n",
       "      <td>0.742896</td>\n",
       "      <td>0.800767</td>\n",
       "      <td>0.874020</td>\n",
       "      <td>0.934435</td>\n",
       "    </tr>\n",
       "    <tr>\n",
       "      <th>2</th>\n",
       "      <td>0.636632</td>\n",
       "      <td>0.717618</td>\n",
       "      <td>0.866640</td>\n",
       "      <td>0.933962</td>\n",
       "    </tr>\n",
       "    <tr>\n",
       "      <th>3</th>\n",
       "      <td>0.913676</td>\n",
       "      <td>0.926278</td>\n",
       "      <td>0.964056</td>\n",
       "      <td>0.983359</td>\n",
       "    </tr>\n",
       "    <tr>\n",
       "      <th>4</th>\n",
       "      <td>0.965146</td>\n",
       "      <td>0.966896</td>\n",
       "      <td>0.983901</td>\n",
       "      <td>0.995526</td>\n",
       "    </tr>\n",
       "    <tr>\n",
       "      <th>5</th>\n",
       "      <td>0.936543</td>\n",
       "      <td>0.941116</td>\n",
       "      <td>0.968208</td>\n",
       "      <td>0.980519</td>\n",
       "    </tr>\n",
       "    <tr>\n",
       "      <th>6</th>\n",
       "      <td>0.905143</td>\n",
       "      <td>0.918083</td>\n",
       "      <td>0.961012</td>\n",
       "      <td>0.975000</td>\n",
       "    </tr>\n",
       "  </tbody>\n",
       "</table>\n",
       "</div>"
      ],
      "text/plain": [
       "threshold      1.0       5.0       10.0      15.0\n",
       "period                                           \n",
       "1          0.742896  0.800767  0.874020  0.934435\n",
       "2          0.636632  0.717618  0.866640  0.933962\n",
       "3          0.913676  0.926278  0.964056  0.983359\n",
       "4          0.965146  0.966896  0.983901  0.995526\n",
       "5          0.936543  0.941116  0.968208  0.980519\n",
       "6          0.905143  0.918083  0.961012  0.975000"
      ]
     },
     "execution_count": 15,
     "metadata": {},
     "output_type": "execute_result"
    }
   ],
   "source": [
    "df_plot.pivot(index=\"period\", columns='threshold', values='proportion')"
   ]
  },
  {
   "cell_type": "code",
   "execution_count": 16,
   "id": "026c0777-69d9-423f-a900-81c975247ccd",
   "metadata": {},
   "outputs": [
    {
     "data": {
      "image/png": "[encoded data removed]",
      "text/plain": [
       "<Figure size 600x600 with 1 Axes>"
      ]
     },
     "metadata": {},
     "output_type": "display_data"
    }
   ],
   "source": [
    "fig = plt.figure(figsize=(6, 6))\n",
    "\n",
    "palette = [\n",
    "    sns.color_palette(\"Blues\")[0],\n",
    "    sns.color_palette(\"Blues\")[2],\n",
    "    sns.color_palette(\"Blues\")[3],\n",
    "    sns.color_palette(\"colorblind\")[0],\n",
    "]\n",
    "\n",
    "ax = sns.barplot(\n",
    "    df_plot,\n",
    "    x=\"period\",\n",
    "    y=\"proportion\",\n",
    "    hue=\"threshold\",\n",
    "    # palette=palette,\n",
    "    palette=\"Blues\",\n",
    "    edgecolor=\"black\",\n",
    ")\n",
    "\n",
    "_ = ax.set(\n",
    "    xlabel=\"Period\",\n",
    "    ylabel=\"Proportion of\\nconsistent loci\",\n",
    ")\n",
    "\n",
    "sns.move_legend(ax, \"lower right\")\n",
    "ax.get_legend().get_frame().set_alpha(1.)\n",
    "_ = ax.get_legend().set(title=\"Min. norm.\\ndepth\")"
   ]
  }
 ],
 "metadata": {
  "kernelspec": {
   "display_name": "Python 3 (ipykernel)",
   "language": "python",
   "name": "python3"
  },
  "language_info": {
   "codemirror_mode": {
    "name": "ipython",
    "version": 3
   },
   "file_extension": ".py",
   "mimetype": "text/x-python",
   "name": "python",
   "nbconvert_exporter": "python",
   "pygments_lexer": "ipython3",
   "version": "3.10.13"
  }
 },
 "nbformat": 4,
 "nbformat_minor": 5
}
